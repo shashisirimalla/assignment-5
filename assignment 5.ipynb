{
 "cells": [
  {
   "cell_type": "markdown",
   "id": "ed6b89eb",
   "metadata": {},
   "source": [
    "# Challenge 1"
   ]
  },
  {
   "cell_type": "code",
   "execution_count": 81,
   "id": "066afcda",
   "metadata": {},
   "outputs": [
    {
     "name": "stdout",
     "output_type": "stream",
     "text": [
      "x value : 10\n",
      "y value : 20\n",
      "z value : 30\n"
     ]
    },
    {
     "data": {
      "text/plain": [
       "1400"
      ]
     },
     "execution_count": 81,
     "metadata": {},
     "output_type": "execute_result"
    }
   ],
   "source": [
    "class point:\n",
    "    def __init__(self,x,y,z):\n",
    "        self.x=x\n",
    "        self.y=y\n",
    "        self.z=z\n",
    "    def sqSum(self):\n",
    "        return pow(self.x, 2) + pow(self.y, 2) + pow(self.z, 2)\n",
    "\n",
    "x= int(input(\"x value : \"))\n",
    "y= int(input(\"y value : \"))\n",
    "z= int(input(\"z value : \"))\n",
    "obj = point(x, y, z)\n",
    "obj.sqSum()"
   ]
  },
  {
   "cell_type": "markdown",
   "id": "c5ce5e12",
   "metadata": {},
   "source": [
    "# Challenge 2"
   ]
  },
  {
   "cell_type": "code",
   "execution_count": 84,
   "id": "acd1d0fa",
   "metadata": {},
   "outputs": [
    {
     "name": "stdout",
     "output_type": "stream",
     "text": [
      "Enter the number20\n",
      "Enter the number10\n",
      "30\n",
      "10\n",
      "200\n",
      "2.0\n"
     ]
    }
   ],
   "source": [
    "class calculator:\n",
    "    \n",
    "    def __init__(self,num1,num2):\n",
    "        self.num1 = num1\n",
    "        self.num2 = num2\n",
    "    def add(self):\n",
    "        return num1 + num2\n",
    "    def substract(self):\n",
    "        return num1 - num2\n",
    "    def multiply(self):\n",
    "        return num1 * num2\n",
    "    def divide(self):\n",
    "        return num1 / num2\n",
    "    \n",
    "num1 = int(input(\"Enter the number\"))\n",
    "num2 = int(input(\"Enter the number\"))\n",
    "obj = calculator(num1 , num2)\n",
    "print(obj.add())\n",
    "print(obj.substract())\n",
    "print(obj.multiply())\n",
    "print(obj.divide())"
   ]
  },
  {
   "cell_type": "markdown",
   "id": "e0443acb",
   "metadata": {},
   "source": [
    "# Challenge 3"
   ]
  },
  {
   "cell_type": "code",
   "execution_count": 75,
   "id": "6efcfbdd",
   "metadata": {},
   "outputs": [
    {
     "name": "stdout",
     "output_type": "stream",
     "text": [
      "Name :  shashi\n",
      "Rollnumber:  66\n"
     ]
    }
   ],
   "source": [
    "class Student:\n",
    "    \n",
    "    \n",
    "    def setName(self,x):\n",
    "        self.__name = x\n",
    "    def getName(self):\n",
    "        return self.__name\n",
    "    \n",
    "    \n",
    "    def setRollnumber(self,y):\n",
    "        self.__rollnumber = y       \n",
    "    def getRollnumber(self):\n",
    "        return self.__rollnumber\n",
    "    \n",
    "    \n",
    "    def display(self):\n",
    "        print('Name : ', self.__name )\n",
    "        print('Rollnumber: ', self.__rollnumber )\n",
    "        \n",
    "        \n",
    "S = Student()\n",
    "S.setName('shashi')\n",
    "S.setRollnumber(66)\n",
    "S.display()\n",
    "        \n"
   ]
  },
  {
   "cell_type": "markdown",
   "id": "688b0c3b",
   "metadata": {},
   "source": [
    "# Challenge 4"
   ]
  },
  {
   "cell_type": "code",
   "execution_count": 101,
   "id": "cab7e86b",
   "metadata": {},
   "outputs": [
    {
     "name": "stdout",
     "output_type": "stream",
     "text": [
      "Ashish\n",
      "5000\n",
      "5\n"
     ]
    }
   ],
   "source": [
    "class Account:\n",
    "    \n",
    "    def __init__(self,title,balance):\n",
    "        self.title = title\n",
    "        self.balance = balance\n",
    "        \n",
    "class SavingsAccount(Account):\n",
    "    \n",
    "    def __init__(self,title,balance,interestRate):\n",
    "        super().__init__(title,balance)\n",
    "        self.interestRate = interestRate\n",
    "        \n",
    "obj = SavingsAccount(\"Ashish\", 5000, 5)\n",
    "print(obj.title)\n",
    "print(obj.balance)\n",
    "print(obj.interestRate)"
   ]
  },
  {
   "cell_type": "markdown",
   "id": "70f46453",
   "metadata": {},
   "source": [
    "# Challenge 5"
   ]
  },
  {
   "cell_type": "code",
   "execution_count": 111,
   "id": "e827e352",
   "metadata": {},
   "outputs": [
    {
     "name": "stdout",
     "output_type": "stream",
     "text": [
      "Balance in Account : 2000\n",
      "Balance After Deposit the amount : 500: 2500\n",
      "Balance after the withdraw amount : 500:  2000\n",
      "intreset for current Balance:  100.0\n"
     ]
    }
   ],
   "source": [
    "class Account:\n",
    "    \n",
    "    def __init__(self,title = None,balance=0):\n",
    "        self.title = title\n",
    "        self.balance = balance\n",
    "        \n",
    "    def withdrawal(self,amount):\n",
    "        self.balance -= amount\n",
    "        return\n",
    "    \n",
    "    def deposit (self, amount):\n",
    "        self.balance += amount\n",
    "        return\n",
    "    \n",
    "    def getBalance(self):\n",
    "        return self.balance\n",
    "    \n",
    "class SavingsAccount(Account):\n",
    "    \n",
    "    def __init__(self,title=None,balance=0,interestRate=0):\n",
    "        super().__init__(title,balance)\n",
    "        self.interestRate = interestRate\n",
    "        \n",
    "    def interestAmount(self):\n",
    "        return self.balance * self.interestRate / 100\n",
    "    \n",
    "\n",
    "obj = SavingsAccount(title = \"Ashish\" , balance = 2000,interestRate = 5)\n",
    "print(\"Balance in Account :\", obj.getBalance())\n",
    "obj.deposit(500)\n",
    "print(\"Balance After Deposit the amount : 500 :\", obj.getBalance())\n",
    "obj.withdrawal(500)\n",
    "print(\"Balance after the withdraw amount : 500 : \",obj.getBalance())\n",
    "obj.interestAmount()\n",
    "print(\"intreset for current Balance: \", obj.interestAmount())\n",
    "\n"
   ]
  },
  {
   "cell_type": "code",
   "execution_count": null,
   "id": "3a5be5f2",
   "metadata": {},
   "outputs": [],
   "source": []
  }
 ],
 "metadata": {
  "kernelspec": {
   "display_name": "Python 3 (ipykernel)",
   "language": "python",
   "name": "python3"
  },
  "language_info": {
   "codemirror_mode": {
    "name": "ipython",
    "version": 3
   },
   "file_extension": ".py",
   "mimetype": "text/x-python",
   "name": "python",
   "nbconvert_exporter": "python",
   "pygments_lexer": "ipython3",
   "version": "3.9.13"
  }
 },
 "nbformat": 4,
 "nbformat_minor": 5
}
